{
 "cells": [
  {
   "cell_type": "markdown",
   "metadata": {},
   "source": [
    "## What is Matplotlib?\n",
    "\n",
    "> matplotlib is a library for making 2D plots of arrays in Python\n",
    ">\n",
    "> *-matplotlib.org/users/intro.html*"
   ]
  },
  {
   "cell_type": "code",
   "execution_count": null,
   "metadata": {},
   "outputs": [],
   "source": [
    "%matplotlib inline\n",
    "import matplotlib\n",
    "import matplotlib.pyplot as plt\n",
    "import matplotlib.dates as mdt\n",
    "import pandas as pd"
   ]
  },
  {
   "cell_type": "code",
   "execution_count": null,
   "metadata": {},
   "outputs": [],
   "source": [
    "matplotlib.__version__"
   ]
  },
  {
   "cell_type": "code",
   "execution_count": null,
   "metadata": {},
   "outputs": [],
   "source": [
    "alta = pd.read_csv('../data/snow-alta-1990-2017.csv')\n",
    "alta['DATE'] = pd.to_datetime(alta.DATE)"
   ]
  },
  {
   "cell_type": "code",
   "execution_count": null,
   "metadata": {},
   "outputs": [],
   "source": [
    "weekly = (alta\n",
    "    .set_index('DATE')\n",
    "    .resample('w')\n",
    "    .agg({'LATITUDE': 'first', 'LONGITUDE': 'last',\n",
    "          'SNOW': 'mean', 'SNWD': 'mean',\n",
    "         'TMAX': 'max', 'TMIN': 'min', 'TOBS': 'mean'}))\n",
    "\n",
    "x = weekly.index\n",
    "y = weekly.SNWD\n",
    "alta_x = x\n",
    "alta_y = y"
   ]
  },
  {
   "cell_type": "code",
   "execution_count": null,
   "metadata": {},
   "outputs": [],
   "source": [
    "plt.plot(x,y)"
   ]
  },
  {
   "cell_type": "code",
   "execution_count": null,
   "metadata": {},
   "outputs": [],
   "source": [
    "# last 60 weeks\n",
    "weeks = 60\n",
    "weeks = 60\n",
    "x_weeks = x[-weeks:]\n",
    "y_weeks = y.iloc[-weeks:]\n",
    "plt.plot(x_weeks, y_weeks)"
   ]
  },
  {
   "cell_type": "code",
   "execution_count": null,
   "metadata": {},
   "outputs": [],
   "source": [
    "# Increase size\n",
    "# last 60 weeks\n",
    "fig, ax = plt.subplots(figsize=(8,6))\n",
    "weeks = 60\n",
    "x_weeks = x[-weeks:]\n",
    "y_weeks = y.iloc[-weeks:]\n",
    "ax.plot(x_weeks, y_weeks)"
   ]
  },
  {
   "cell_type": "code",
   "execution_count": null,
   "metadata": {},
   "outputs": [],
   "source": [
    "# Add 6 week MA\n",
    "# Increase size\n",
    "# last 60 weeks\n",
    "fig, ax = plt.subplots(figsize=(8,6))\n",
    "weeks = 60\n",
    "x_weeks = x[-weeks:]\n",
    "y_weeks = y.iloc[-weeks:]\n",
    "y_weeks_ma = y.rolling(6).mean().iloc[-weeks:]\n",
    "\n",
    "ax.plot(x_weeks, y_weeks, linewidth=2)\n",
    "ax.plot(x_weeks, y_weeks_ma, color='b', linestyle='--')"
   ]
  },
  {
   "cell_type": "code",
   "execution_count": null,
   "metadata": {},
   "outputs": [],
   "source": [
    "# Add legend\n",
    "# Add 6 week MA\n",
    "# Increase size\n",
    "# last 60 weeks\n",
    "fig, ax = plt.subplots(figsize=(8,6))\n",
    "weeks = 60\n",
    "x_weeks = x[-weeks:]\n",
    "y_weeks = y.iloc[-weeks:]\n",
    "y_weeks_ma = y.rolling(6).mean().iloc[-weeks:]\n",
    "\n",
    "ax.plot(x_weeks, y_weeks, linewidth=2)\n",
    "ax.plot(x_weeks, y_weeks_ma, color='b', linestyle='--', label=\"MA\")\n",
    "ax.legend()"
   ]
  },
  {
   "cell_type": "code",
   "execution_count": null,
   "metadata": {},
   "outputs": [],
   "source": [
    "# Annotate High\n",
    "# Add legend\n",
    "# Add 6 week MA\n",
    "# Increase size\n",
    "# last 60 weeks\n",
    "fig, ax = plt.subplots(figsize=(8,6))\n",
    "weeks = 60\n",
    "x_weeks = x[-weeks:]\n",
    "y_weeks = y.iloc[-weeks:]\n",
    "y_weeks_ma = y.rolling(6).mean().iloc[-weeks:]\n",
    "\n",
    "ax.plot(x_weeks, y_weeks, linewidth=2)\n",
    "ax.plot(x_weeks, y_weeks_ma, color='b', linestyle='--', label=\"MA\")\n",
    "ax.legend()\n",
    "\n",
    "max_val = max(y_weeks)\n",
    "max_idx = y_weeks.idxmax()\n",
    "ax.annotate(f'Max {max_val:.1f}', xy=(mdt.date2num(max_idx), max_val),\n",
    "           weight='bold', size=14)\n",
    "\n",
    "min_val = min(y_weeks)\n",
    "min_idx = y_weeks.idxmin()\n",
    "ax.annotate(f'Min {min_val:.1f}', xy=(mdt.date2num(min_idx), min_val+10),\n",
    "           weight='bold', size=14)"
   ]
  },
  {
   "cell_type": "code",
   "execution_count": null,
   "metadata": {},
   "outputs": [],
   "source": [
    "# Add title, remove spines\n",
    "# Annotate High\n",
    "# Add legend\n",
    "# Add 6 week MA\n",
    "# Increase size\n",
    "# last 60 weeks\n",
    "fig, ax = plt.subplots(figsize=(8,6))\n",
    "weeks = 60\n",
    "x_weeks = x[-weeks:]\n",
    "y_weeks = y.iloc[-weeks:]\n",
    "y_weeks_ma = y.rolling(6).mean().iloc[-weeks:]\n",
    "\n",
    "ax.plot(x_weeks, y_weeks, linewidth=2)\n",
    "ax.plot(x_weeks, y_weeks_ma, color='b', linestyle='--', label=\"MA\")\n",
    "ax.legend()\n",
    "\n",
    "max_val = max(y_weeks)\n",
    "max_idx = y_weeks.idxmax()\n",
    "ax.annotate(f'Max {max_val:.1f}', xy=(mdt.date2num(max_idx), max_val),\n",
    "           weight='bold', size=14)\n",
    "\n",
    "\n",
    "min_val = min(y_weeks)\n",
    "min_idx = y_weeks.idxmin()\n",
    "ax.annotate(f'Min {min_val:.1f}', xy=(mdt.date2num(min_idx), min_val+10),\n",
    "           weight='bold', size=14)\n",
    "\n",
    "ax.get_yaxis().set_visible(False)\n",
    "for side in ['left', 'top', 'right', 'bottom']:\n",
    "    ax.spines[side].set_visible(False)\n",
    "ax.set_title(f'{weeks} Weeks of Snow')\n",
    "fig.autofmt_xdate()"
   ]
  },
  {
   "cell_type": "code",
   "execution_count": null,
   "metadata": {},
   "outputs": [],
   "source": [
    "# save\n",
    "fig.savefig('demo-plot.png', dpi=300)"
   ]
  },
  {
   "cell_type": "code",
   "execution_count": null,
   "metadata": {},
   "outputs": [],
   "source": [
    "# Non-Jupyter - render plot\n",
    "plt.show()"
   ]
  },
  {
   "cell_type": "code",
   "execution_count": null,
   "metadata": {},
   "outputs": [],
   "source": []
  },
  {
   "cell_type": "markdown",
   "metadata": {},
   "source": [
    "## Interfaces\n",
    "\n",
    "Matplotlib has an object-oriented interface to create *figures*, add *axes*, and plot on the *axes*. In addition there is a *state machine* interface found in the ``pyplot`` package. This interface mimics MATLAB.\n",
    "\n",
    "OO Interface:\n",
    "\n",
    "* **Figure** - The canvas. You can add axes to it.\n",
    "* **Axes** - This is a plot. It can have a title, an x label, and a y label. A 2D plot has 2 axis. A 3D plot has 3.\n",
    "* **Axis** - (Note spelling) - These hold ticks, ticklabels, and define limits. You can customize a *Locator* and *Formatter* to adjust the position and labels.\n",
    "* **Artist** - (Confusing term) for describing what you can draw on a plot.\n",
    "* **Backend** - This is the rendering engine for creating a plot (pdf, png, svg, etc) as well as an interface (pygtk, wx, macos, inline). For Jupyter, we specify the cell magic ``%matplotlib inline``"
   ]
  },
  {
   "cell_type": "code",
   "execution_count": null,
   "metadata": {},
   "outputs": [],
   "source": [
    "# OO Example\n",
    "from matplotlib.figure import Figure\n",
    "from matplotlib.backends.backend_agg import FigureCanvasAgg as FigureCanvas\n",
    "from IPython.core.display import display\n",
    "\n",
    "fig = Figure()\n",
    "FigureCanvas(fig)  # Figure needs a canvas (pyplot does this for us)\n",
    "ax = fig.add_subplot(111)\n",
    "ax.plot(x, y)\n",
    "display(fig)"
   ]
  },
  {
   "cell_type": "code",
   "execution_count": null,
   "metadata": {},
   "outputs": [],
   "source": [
    "# pyplot example\n",
    "import matplotlib.pyplot as plt\n",
    "plt.plot(x,y)"
   ]
  },
  {
   "cell_type": "code",
   "execution_count": null,
   "metadata": {},
   "outputs": [],
   "source": [
    "# In practice I create figures or axes w/ pyplot\n",
    "ax = plt.subplot(111)\n",
    "# fig, ax = plt.subplots()  # to get figure as well\n",
    "ax.plot(x, y)"
   ]
  },
  {
   "cell_type": "markdown",
   "metadata": {},
   "source": [
    "The ``plt`` interface has a few functions (``figure``, ``legend``, ``title``, ``xlabel``, ``xlim``, ``xscale``, ``xticks``, ``ylabel``, ``ylim``, ``yscale``, ``yticks``), that have corresponding accessors on ``ax``. Ie ``ax.get_xticks()``. In addition you can use ``ax.set(title='foo', xlabel='bar', xlim=(1,100))`` to set multiple attributes."
   ]
  },
  {
   "cell_type": "markdown",
   "metadata": {},
   "source": [
    "## Lab Data\n",
    "This section will load the lab data."
   ]
  },
  {
   "cell_type": "code",
   "execution_count": null,
   "metadata": {},
   "outputs": [],
   "source": [
    "#%%time\n",
    "nyc = pd.read_csv('../data/central-park-raw.csv', parse_dates=[0])\n",
    "nyc_weekly = (nyc\n",
    " .rename(columns={'Mean TemperatureF': 'temp'})\n",
    " .set_index('EST')\n",
    " .resample('w')\n",
    " ['temp']\n",
    " .mean()\n",
    ")"
   ]
  },
  {
   "cell_type": "markdown",
   "metadata": {},
   "source": [
    "## Exercise: Interface\n",
    "Using the ``nyc`` data:\n",
    "* Create a ``nyc_weekly`` variable that is a series with a weekly index and the average temp\n",
    "* Plot the average temp on a weekly level using the OO style interface\n",
    "* Plot the average temp on a weekly level using the ``plt`` style interface\n",
    "* Bump the figure size up to 10 inches wide by 8 inches tall in both plots"
   ]
  },
  {
   "cell_type": "code",
   "execution_count": null,
   "metadata": {},
   "outputs": [],
   "source": []
  },
  {
   "cell_type": "code",
   "execution_count": null,
   "metadata": {},
   "outputs": [],
   "source": []
  },
  {
   "cell_type": "code",
   "execution_count": null,
   "metadata": {},
   "outputs": [],
   "source": []
  },
  {
   "cell_type": "markdown",
   "metadata": {},
   "source": [
    "## Basic Plots\n",
    "Matplotlib supports a variety of plots out of the box."
   ]
  },
  {
   "cell_type": "code",
   "execution_count": null,
   "metadata": {},
   "outputs": [],
   "source": [
    "# Line Plot\n",
    "fig, ax = plt.subplots()\n",
    "ax.plot(x, y)"
   ]
  },
  {
   "cell_type": "code",
   "execution_count": null,
   "metadata": {},
   "outputs": [],
   "source": [
    "# Bar Plot\n",
    "fig, ax = plt.subplots(figsize=(8,6))\n",
    "ax.bar(x, y)"
   ]
  },
  {
   "cell_type": "code",
   "execution_count": null,
   "metadata": {},
   "outputs": [],
   "source": [
    "# Bar Plot\n",
    "# width may need to be tweaked\n",
    "fig, ax = plt.subplots(figsize=(8,6))\n",
    "ax.bar(x, y, width=20)"
   ]
  },
  {
   "cell_type": "code",
   "execution_count": null,
   "metadata": {},
   "outputs": [],
   "source": [
    "# Scatter Plot - Using .scatter can be slower than plot. Use .scatter when you want to \n",
    "# tweak attribute\n",
    "fig, ax = plt.subplots(figsize=(8,6))\n",
    "ax.scatter(x, y, marker='o', alpha=.5)"
   ]
  },
  {
   "cell_type": "code",
   "execution_count": null,
   "metadata": {},
   "outputs": [],
   "source": [
    "# Scatter Plot - Using .scatter can be slower than plot. Use .scatter when you want to \n",
    "# tweak attribute\n",
    "fig, ax = plt.subplots(figsize=(8,6))\n",
    "ax.scatter(x, y, marker='o', alpha=.5)"
   ]
  },
  {
   "cell_type": "code",
   "execution_count": null,
   "metadata": {},
   "outputs": [],
   "source": [
    "fig, ax = plt.subplots(figsize=(8,6))\n",
    "s = ax.scatter(alta.TOBS, alta.SNOW, c=alta.DATE.dt.month,\n",
    "           s=alta.SNWD**1.2,\n",
    "           marker='o', \n",
    "           alpha=.5,\n",
    "           cmap='viridis')\n",
    "# add legend\n",
    "plt.colorbar(s)"
   ]
  },
  {
   "cell_type": "code",
   "execution_count": null,
   "metadata": {},
   "outputs": [],
   "source": [
    "# boxplot\n",
    "fig, ax = plt.subplots(figsize=(8,6))\n",
    "data = [(name, list(g.SNOW.fillna(0))) \n",
    "        for name, g in alta.groupby(alta.DATE.dt.year)]\n",
    "year_data = [x[1] for x in data]\n",
    "years = [x[0] for x in data]\n",
    "_ = ax.boxplot(year_data,\n",
    "              labels=years, vert=False\n",
    "              )\n",
    "plt.tight_layout()"
   ]
  },
  {
   "cell_type": "code",
   "execution_count": null,
   "metadata": {
    "lines_to_next_cell": 2
   },
   "outputs": [],
   "source": [
    "# violin plot\n",
    "fig, ax = plt.subplots(figsize=(8,6))\n",
    "data = [(name, list(g.SNOW.fillna(0))) \n",
    "        for name, g in alta.groupby(alta.DATE.dt.year)]\n",
    "year_data = [x[1] for x in data]\n",
    "years = [x[0] for x in data]\n",
    "size = 10\n",
    "ax.violinplot(year_data[:size])\n",
    "# No labels parameter for violinplot...\n",
    "ax.set_xticks(range(1, size + 1))  # tell labels to start at 1 instead of 0\n",
    "_ = ax.set_xticklabels(years[:size])"
   ]
  },
  {
   "cell_type": "code",
   "execution_count": null,
   "metadata": {},
   "outputs": [],
   "source": [
    "# Histogram - careful of values that you feed it\n",
    "# (NaN's will cause it to fail with older matplotlibs)\n",
    "fig, ax = plt.subplots(figsize=(8,6))\n",
    "ax.hist(y.values)"
   ]
  },
  {
   "cell_type": "code",
   "execution_count": null,
   "metadata": {},
   "outputs": [],
   "source": [
    "# Histogram - change bins\n",
    "fig, ax = plt.subplots(figsize=(8,6))\n",
    "_ = ax.hist(y.dropna(), bins=100)"
   ]
  },
  {
   "cell_type": "code",
   "execution_count": null,
   "metadata": {},
   "outputs": [],
   "source": [
    "# Pie\n",
    "fig, ax = plt.subplots(figsize=(8,6))\n",
    "_=ax.pie([10, 5], labels=['10', '5'])\n",
    "ax.legend()"
   ]
  },
  {
   "cell_type": "markdown",
   "metadata": {},
   "source": [
    "## Exercise: Plot Types\n",
    "\n",
    "*  Plot a line plot of the ``nyc_weekly`` data\n",
    "*  Plot a bar plot of the ``nyc_weekly`` data\n",
    "* Plot a scatter plot of the ``nyc_weekly`` data\n",
    "* Plot a histogram of the ``nyc_weekly`` data\n",
    "* Plot a pie chart of the ``nyc_weekly`` data"
   ]
  },
  {
   "cell_type": "code",
   "execution_count": null,
   "metadata": {},
   "outputs": [],
   "source": []
  },
  {
   "cell_type": "code",
   "execution_count": null,
   "metadata": {},
   "outputs": [],
   "source": []
  },
  {
   "cell_type": "code",
   "execution_count": null,
   "metadata": {},
   "outputs": [],
   "source": []
  },
  {
   "cell_type": "code",
   "execution_count": null,
   "metadata": {},
   "outputs": [],
   "source": []
  },
  {
   "cell_type": "code",
   "execution_count": null,
   "metadata": {},
   "outputs": [],
   "source": []
  },
  {
   "cell_type": "markdown",
   "metadata": {},
   "source": [
    "## Architecture"
   ]
  },
  {
   "cell_type": "code",
   "execution_count": null,
   "metadata": {},
   "outputs": [],
   "source": [
    "# Notice what ax.plot returns\n",
    "fig, ax = plt.subplots(figsize=(8,6))\n",
    "ax.plot(x, y)"
   ]
  },
  {
   "cell_type": "code",
   "execution_count": null,
   "metadata": {},
   "outputs": [],
   "source": [
    "fig, ax = plt.subplots(figsize=(8,6))\n",
    "res = ax.plot(x, y)"
   ]
  },
  {
   "cell_type": "code",
   "execution_count": null,
   "metadata": {},
   "outputs": [],
   "source": [
    "print(dir(res[0]))"
   ]
  },
  {
   "cell_type": "code",
   "execution_count": null,
   "metadata": {},
   "outputs": [],
   "source": [
    "help(res[0])"
   ]
  },
  {
   "cell_type": "code",
   "execution_count": null,
   "metadata": {},
   "outputs": [],
   "source": [
    "# Change color and line style\n",
    "fig, ax = plt.subplots(figsize=(8,6))\n",
    "res = ax.plot(x, y)\n",
    "line = res[0]  # Once we have line we can use tab completion\n",
    "line.set_c('#c07fef')\n",
    "line.set_linestyle('--')"
   ]
  },
  {
   "cell_type": "code",
   "execution_count": null,
   "metadata": {},
   "outputs": [],
   "source": [
    "# Set the title\n",
    "fig, ax = plt.subplots(figsize=(8,6))\n",
    "res = ax.plot(x, y)\n",
    "line = res[0]  # Once we have line we can use tab completion\n",
    "line.set_c('#c07fef')\n",
    "line.set_linestyle('--')\n",
    "title = ax.set_title('Alta Snow Levels')"
   ]
  },
  {
   "cell_type": "code",
   "execution_count": null,
   "metadata": {},
   "outputs": [],
   "source": [
    "title"
   ]
  },
  {
   "cell_type": "code",
   "execution_count": null,
   "metadata": {},
   "outputs": [],
   "source": [
    "# Tweak title position\n",
    "fig, ax = plt.subplots(figsize=(8,6))\n",
    "res = ax.plot(x, y)\n",
    "line = res[0]  # Once we have line we can use tab completion\n",
    "line.set_c('#c07fef')\n",
    "line.set_linestyle('--')\n",
    "title = ax.set_title('Alta Snow Levels')\n",
    "title.set_position((.2,.7))"
   ]
  },
  {
   "cell_type": "code",
   "execution_count": null,
   "metadata": {},
   "outputs": [],
   "source": [
    "# let's look at the ax\n",
    "print(dir(ax))"
   ]
  },
  {
   "cell_type": "code",
   "execution_count": null,
   "metadata": {},
   "outputs": [],
   "source": [
    "yax = ax.get_yaxis()"
   ]
  },
  {
   "cell_type": "code",
   "execution_count": null,
   "metadata": {},
   "outputs": [],
   "source": [
    "for member in dir(yax):\n",
    "    if member.startswith('get'):\n",
    "        try:\n",
    "            print(f'{member:20}: {getattr(yax, member)()}')\n",
    "        except TypeError:\n",
    "            print(f'**ERR with {member}')\n",
    "yax.get_scale()"
   ]
  },
  {
   "cell_type": "code",
   "execution_count": null,
   "metadata": {},
   "outputs": [],
   "source": [
    "# Customize tick locations\n",
    "fig, ax = plt.subplots(figsize=(8,6))\n",
    "res = ax.plot(x, y)\n",
    "line = res[0]  # Once we have line we can use tab completion\n",
    "line.set_c('#c07fef')\n",
    "line.set_linestyle('--')\n",
    "title = ax.set_title('Alta Snow Levels')\n",
    "title.set_position((.2,.7))\n",
    "\n",
    "yax = ax.get_yaxis()\n",
    "yax.set_ticks([-10, 0, 20, 200])"
   ]
  },
  {
   "cell_type": "code",
   "execution_count": null,
   "metadata": {},
   "outputs": [],
   "source": [
    "# Remove spines\n",
    "\n",
    "fig, ax = plt.subplots(figsize=(8,6))\n",
    "res = ax.plot(x, y)\n",
    "line = res[0]  # Once we have line we can use tab completion\n",
    "line.set_c('#c07fef')\n",
    "line.set_linestyle('--')\n",
    "title = ax.set_title('Alta Snow Levels')\n",
    "title.set_position((.2,.7))\n",
    "\n",
    "yax = ax.get_yaxis()\n",
    "yax.set_ticks([-10, 0, 20, 200])\n",
    "\n",
    "import matplotlib\n",
    "for c in ax.get_children():\n",
    "    if isinstance(c, matplotlib.spines.Spine):\n",
    "        c.set_visible(False)"
   ]
  },
  {
   "cell_type": "code",
   "execution_count": null,
   "metadata": {},
   "outputs": [],
   "source": [
    "# Remove ticks\n",
    "\n",
    "fig, ax = plt.subplots(figsize=(8,6))\n",
    "res = ax.plot(x, y)\n",
    "line = res[0]  # Once we have line we can use tab completion\n",
    "line.set_c('#c07fef')\n",
    "line.set_linestyle('--')\n",
    "title = ax.set_title('Alta Snow Levels')\n",
    "title.set_position((.2,.7))\n",
    "\n",
    "yax = ax.get_yaxis()\n",
    "yax.set_ticks([-10, 0, 20, 200])\n",
    "\n",
    "import matplotlib\n",
    "for c in ax.get_children():\n",
    "    if isinstance(c, matplotlib.spines.Spine):\n",
    "        c.set_visible(False)\n",
    "        \n",
    "ax.tick_params(bottom=False, left=False)"
   ]
  },
  {
   "cell_type": "code",
   "execution_count": null,
   "metadata": {
    "comment_questions": false
   },
   "outputs": [],
   "source": [
    "# Jupyter hint\n",
    "ax.tick_params??"
   ]
  },
  {
   "cell_type": "markdown",
   "metadata": {},
   "source": [
    "## Exercise: Architecture\n",
    "\n",
    "Using the ``nyc_weekly`` data set, create a line plot, then\n",
    "* Bump up the figure size to ``(8,6)``\n",
    "* Set the yticks to ``[0, 32, 80, 100]``\n",
    "* Add a title in the middle of the plot ``Central Park Temp``\n",
    "* Remove top and right spine"
   ]
  },
  {
   "cell_type": "code",
   "execution_count": null,
   "metadata": {
    "lines_to_next_cell": 2
   },
   "outputs": [],
   "source": []
  },
  {
   "cell_type": "markdown",
   "metadata": {},
   "source": [
    "## Annotating Charts"
   ]
  },
  {
   "cell_type": "code",
   "execution_count": null,
   "metadata": {},
   "outputs": [],
   "source": [
    "# Add text to chart in data coordinates\n",
    "# Note Jupyter version might fail without ``clip_on=True``)\n",
    "fig, ax = plt.subplots(figsize=(8,6))\n",
    "res = ax.plot(x, y)\n",
    "ax.text(ax.get_xlim()[0], 120, 'Snow Levels', clip_on=True)"
   ]
  },
  {
   "cell_type": "code",
   "execution_count": null,
   "metadata": {},
   "outputs": [],
   "source": [
    "# Tweak text properties\n",
    "fig, ax = plt.subplots(figsize=(8,6))\n",
    "res = ax.plot(x, y)\n",
    "# Need TTF/OTF fonts (TTC currently fail)\n",
    "ax.text(ax.get_xlim()[0], 120, 'Snow Levels', clip_on=True,\n",
    "       family='Comic Sans MS', size=20)\n",
    "# bbox is a mpl.patches.Rectangle\n",
    "ax.text(ax.get_xlim()[0], 140, 'Box', clip_on=True,\n",
    "       family='Serif', size=20, style='italic', bbox={'facecolor': 'red', 'alpha': .5})"
   ]
  },
  {
   "cell_type": "code",
   "execution_count": null,
   "metadata": {},
   "outputs": [],
   "source": [
    "# Add text to chart USING 0-1 coordinates\n",
    "fig, ax = plt.subplots(figsize=(8,6))\n",
    "res = ax.plot(x, y)\n",
    "# Need TTF/OTF fonts (TTC currently fail)\n",
    "ax.text(0, .8, 'Snow Levels', clip_on=True,\n",
    "       family='Comic Sans MS', size=20,\n",
    "       transform=ax.transAxes)\n",
    "# bbox is a mpl.patches.Rectangle\n",
    "ax.text(.2, .9, 'Box', clip_on=True,\n",
    "       family='Serif', size=20, style='italic', \n",
    "        bbox={'facecolor': 'red', 'alpha': .5},\n",
    "       transform=ax.transAxes)"
   ]
  },
  {
   "cell_type": "code",
   "execution_count": null,
   "metadata": {},
   "outputs": [],
   "source": [
    "x"
   ]
  },
  {
   "cell_type": "code",
   "execution_count": null,
   "metadata": {
    "lines_to_next_cell": 2
   },
   "outputs": [],
   "source": [
    "# Add text to chart in data coordinates\n",
    "fig, ax = plt.subplots(figsize=(8,6))\n",
    "res = ax.plot(x, y)\n",
    "\n",
    "ax.annotate(f'Min {y.min()}', xy=(x.min(), y.min()), \n",
    "            xytext=(x.min(), y.min() + 3))\n",
    "\n",
    "# arrowprops is a mpl.patches.FancyArrowPatch\n",
    "_ = ax.annotate(f'Max {y.max():.1f}', xy=(y.idxmax(), y.max()), \n",
    "                #xytext=(y.idxmax()+150, y.max() - 20),\n",
    "                # pandas 1.0 compat\n",
    "                xytext=(y.idxmax()+y.idxmax().freq*100, y.max() - 20),\n",
    "                family='comic sans ms',\n",
    "                arrowprops={})"
   ]
  },
  {
   "cell_type": "code",
   "execution_count": null,
   "metadata": {
    "lines_to_next_cell": 0
   },
   "outputs": [],
   "source": [
    "# Add text to chart USING 0-1 coordinates\n",
    "fig, ax = plt.subplots(figsize=(8,6))\n",
    "res = ax.plot(x, y)\n",
    "\n",
    "ax.annotate(f'Min {y.min()}',xy=(0, 0), \n",
    "            xytext=(0, .1),\n",
    "            xycoords='axes fraction', \n",
    "            textcoords='axes fraction')\n",
    "# arrowprops is a mpl.patches.FancyArrowPatch\n",
    "_ = ax.annotate(f'Max {y.max():.1f}', xy=(y.idxmax(), y.max()), \n",
    "                xytext=(.5, .8),\n",
    "                textcoords='axes fraction',\n",
    "                family='comic sans ms',\n",
    "                arrowprops={})"
   ]
  },
  {
   "cell_type": "code",
   "execution_count": null,
   "metadata": {},
   "outputs": [],
   "source": []
  },
  {
   "cell_type": "code",
   "execution_count": null,
   "metadata": {},
   "outputs": [],
   "source": []
  },
  {
   "cell_type": "markdown",
   "metadata": {},
   "source": [
    "## Exercise: Annotation\n",
    "Using the last 20 rows of ``nyc_weekly`` make a new dataset ``c3``. Plot a bar plot. Remove the y axis. Label each bar with its value right above (or inside of the top of) the bar. (See https://matplotlib.org/users/text_props.html page for help with rotation or vertical or horizontal alignment) (Might need to tweak ``width`` parameter of call to ``ax.bar``)"
   ]
  },
  {
   "cell_type": "code",
   "execution_count": null,
   "metadata": {},
   "outputs": [],
   "source": [
    "    "
   ]
  },
  {
   "cell_type": "code",
   "execution_count": null,
   "metadata": {},
   "outputs": [],
   "source": [
    "    "
   ]
  },
  {
   "cell_type": "code",
   "execution_count": null,
   "metadata": {},
   "outputs": [],
   "source": []
  },
  {
   "cell_type": "code",
   "execution_count": null,
   "metadata": {},
   "outputs": [],
   "source": []
  },
  {
   "cell_type": "markdown",
   "metadata": {},
   "source": [
    "## Configuring Matplotlib"
   ]
  },
  {
   "cell_type": "code",
   "execution_count": null,
   "metadata": {},
   "outputs": [],
   "source": [
    "plt.style.use(plt.rcParamsDefault)\n",
    "fig, ax = plt.subplots(figsize=(8,6))\n",
    "res = ax.plot(x, y)"
   ]
  },
  {
   "cell_type": "code",
   "execution_count": null,
   "metadata": {},
   "outputs": [],
   "source": [
    "# Default style is stored here\n",
    "print(plt.rcParamsDefault)"
   ]
  },
  {
   "cell_type": "code",
   "execution_count": null,
   "metadata": {},
   "outputs": [],
   "source": [
    "print(plt.style.available)"
   ]
  },
  {
   "cell_type": "code",
   "execution_count": null,
   "metadata": {},
   "outputs": [],
   "source": [
    "# note that changing the style leaves it changed\n",
    "plt.style.use('ggplot')\n",
    "fig, ax = plt.subplots(figsize=(8,6))\n",
    "res = ax.plot(x, y)"
   ]
  },
  {
   "cell_type": "code",
   "execution_count": null,
   "metadata": {},
   "outputs": [],
   "source": [
    "# use a context manager for temporary changes\n",
    "with plt.style.context('fivethirtyeight'):\n",
    "    fig, ax = plt.subplots(figsize=(8,6))\n",
    "    res = ax.plot(x, y)"
   ]
  },
  {
   "cell_type": "code",
   "execution_count": null,
   "metadata": {},
   "outputs": [],
   "source": [
    "# go back to defaults\n",
    "matplotlib.rcdefaults()\n",
    "\n",
    "fig, ax = plt.subplots(figsize=(8,6))\n",
    "res = ax.plot(x, y)"
   ]
  },
  {
   "cell_type": "code",
   "execution_count": null,
   "metadata": {},
   "outputs": [],
   "source": [
    "# can create a configuration file in $MPLCONFIGDIR environment variable\n",
    "# MPLCONFIGDIR/\n",
    "#      matplotlibrc - default styles\n",
    "#      stylelib/CUSTOM.mlpstyle - can use matplotlib.style.use('CUSTOM') \n",
    "#             (Might need to plt.style.reload_library() )\n",
    "matplotlib.get_configdir()"
   ]
  },
  {
   "cell_type": "code",
   "execution_count": null,
   "metadata": {},
   "outputs": [],
   "source": [
    "# style loading done at import time. need to reload\n",
    "import importlib, os\n",
    "folder = os.path.join(matplotlib.get_configdir(), 'stylelib')\n",
    "if not os.path.exists(folder):\n",
    "    os.mkdir(folder)\n",
    "cfg_name = os.path.join(folder, 'big.mplstyle')\n",
    "with open(cfg_name, 'w') as fout:\n",
    "    fout.write(\"\"\"\n",
    "axes.labelsize : 36\n",
    "lines.linewidth : 4\n",
    "xtick.labelsize : 24\n",
    "ytick.labelsize : 32\n",
    "    \"\"\")\n",
    "print(cfg_name)\n",
    "plt.style.reload_library()\n",
    "with plt.style.context('big'):\n",
    "    fig, ax = plt.subplots(figsize=(8,6))\n",
    "    # these fail in Jupyter currently (Sep 2018 - https://github.com/jupyter/notebook/issues/3385)\n",
    "    matplotlib.rcParams['grid.color'] = 'r'\n",
    "    matplotlib.rcParams['grid.linestyle'] = ':'\n",
    "    matplotlib.rc('grid', color='r', alpha=1, linestyle='-', linewidth=1)\n",
    "    res = ax.plot(x, y)"
   ]
  },
  {
   "cell_type": "code",
   "execution_count": null,
   "metadata": {},
   "outputs": [],
   "source": [
    "# linestyle - see help for ax.plot\n",
    "fig, ax = plt.subplots(figsize=(8,6))\n",
    "\n",
    "for i, (name, shortcut) in enumerate([('solid', '-',), ('dashed', '--'), \n",
    "    ('dashdot', '-.'), ('dotted', ':')]):\n",
    "    ax.plot(y[-10:]+i*20, linestyle=shortcut, label=name, linewidth=3)\n",
    "ax.legend()"
   ]
  },
  {
   "cell_type": "code",
   "execution_count": null,
   "metadata": {
    "lines_to_next_cell": 2
   },
   "outputs": [],
   "source": [
    "# Adjust axis limits\n",
    "fig, ax = plt.subplots()\n",
    "ax.set_ylim((0, 300))\n",
    "ax.plot(y, linestyle=shortcut, label=name, linewidth=3)"
   ]
  },
  {
   "cell_type": "code",
   "execution_count": null,
   "metadata": {},
   "outputs": [],
   "source": [
    "# Adjust Labels\n",
    "# Can also set with ax.axis, which can also set x/y scale to same value with 'equal'.\n",
    "fig, ax = plt.subplots()\n",
    "#ax.axis('equal')\n",
    "ax.plot(y, linestyle=shortcut, label=name, linewidth=3)\n",
    "ax.set_title('Alta Snow Levels')\n",
    "ax.set_xlabel('Year')\n",
    "ax.set_ylabel('Inches')"
   ]
  },
  {
   "cell_type": "code",
   "execution_count": null,
   "metadata": {},
   "outputs": [],
   "source": [
    "# colormaps (useful on scatter plots)\n",
    "fig, ax = plt.subplots()\n",
    "ax.set_ylim((0, 150))\n",
    "ax.scatter(x, y, alpha=.3, c=y, cmap='PiYG')"
   ]
  },
  {
   "cell_type": "code",
   "execution_count": null,
   "metadata": {},
   "outputs": [],
   "source": [
    "# see https://matplotlib.org/examples/color/colormaps_reference.html\n",
    "import numpy as np\n",
    "colormaps = [x for x in plt.cm.datad.keys() if not x.endswith('_r')]\n",
    "\n",
    "fig, axes = plt.subplots(nrows=len(colormaps), figsize=(10,18))\n",
    "plt.subplots_adjust(top=0.8,bottom=0.05,left=0.01,right=0.99)\n",
    "gradient = np.linspace(0, 1, 256)\n",
    "gradient = np.vstack((gradient, gradient))\n",
    "for i, m in enumerate(sorted(colormaps)):\n",
    "    ax = axes[i]\n",
    "    ax.set_axis_off()\n",
    "    ax.imshow(gradient,aspect='auto',\n",
    "               cmap=m)\n",
    "    pos = list(ax.get_position().bounds)\n",
    "    x_text = pos[0] - 0.01\n",
    "    y_text = pos[1] + pos[3]/2.\n",
    "    fig.text(x_text, y_text, m, va='center', ha='right', fontsize=10)\n"
   ]
  },
  {
   "cell_type": "code",
   "execution_count": null,
   "metadata": {},
   "outputs": [],
   "source": [
    "# Line Plot - Colors (can specify with HEX)\n",
    "fig, ax = plt.subplots()\n",
    "ax.plot(x, color='#C07FEF', linewidth=3, linestyle='--')"
   ]
  },
  {
   "cell_type": "code",
   "execution_count": null,
   "metadata": {},
   "outputs": [],
   "source": [
    "# Bar Plot color - pass in a single color or parallel sequence\n",
    "last10 = y.iloc[-10:]\n",
    "fig, ax = plt.subplots()\n",
    "colors = ['red' for val in last10]\n",
    "colors[0] = '#c07fef'\n",
    "colors[-1] = '#fef70c'\n",
    "ax.bar(last10.index, last10, color=colors, width=4)\n",
    "fig.autofmt_xdate()  # tweak dates"
   ]
  },
  {
   "cell_type": "code",
   "execution_count": null,
   "metadata": {
    "lines_to_next_cell": 2
   },
   "outputs": [],
   "source": []
  },
  {
   "cell_type": "markdown",
   "metadata": {},
   "source": [
    "## Exercise: Customize\n",
    "\n",
    "* Create a line plot of ``nyc_weekly`` temporarily using the ``'dark_background'`` style, dotted lines, and a linewidth of 5\n",
    "* Using the bar plot from the annotation exercise, color all the bars grey, except color the minimum value red and the maximum value green."
   ]
  },
  {
   "cell_type": "code",
   "execution_count": null,
   "metadata": {},
   "outputs": [],
   "source": []
  },
  {
   "cell_type": "code",
   "execution_count": null,
   "metadata": {},
   "outputs": [],
   "source": []
  },
  {
   "cell_type": "code",
   "execution_count": null,
   "metadata": {},
   "outputs": [],
   "source": []
  },
  {
   "cell_type": "code",
   "execution_count": null,
   "metadata": {},
   "outputs": [],
   "source": [
    "        "
   ]
  },
  {
   "cell_type": "code",
   "execution_count": null,
   "metadata": {},
   "outputs": [],
   "source": []
  },
  {
   "cell_type": "code",
   "execution_count": null,
   "metadata": {},
   "outputs": [],
   "source": []
  },
  {
   "cell_type": "code",
   "execution_count": null,
   "metadata": {},
   "outputs": [],
   "source": []
  },
  {
   "cell_type": "code",
   "execution_count": null,
   "metadata": {},
   "outputs": [],
   "source": []
  },
  {
   "cell_type": "markdown",
   "metadata": {
    "lines_to_next_cell": 2
   },
   "source": [
    "## 3D and other Tools"
   ]
  },
  {
   "cell_type": "code",
   "execution_count": null,
   "metadata": {},
   "outputs": [],
   "source": [
    "pd.to_numeric(alta.DATE) #.astype(int)"
   ]
  },
  {
   "cell_type": "code",
   "execution_count": null,
   "metadata": {},
   "outputs": [],
   "source": [
    "%matplotlib notebook\n",
    "from mpl_toolkits.mplot3d import Axes3D\n",
    "fig = plt.figure()\n",
    "ax = fig.add_subplot(111, projection='3d')\n",
    "ax.scatter(xs=pd.to_numeric(alta.DATE), ys=alta.SNOW, zs=alta.SNWD, alpha=.5)"
   ]
  },
  {
   "cell_type": "code",
   "execution_count": null,
   "metadata": {},
   "outputs": [],
   "source": [
    "%matplotlib inline\n",
    "# Personally try to avoid 3D (though interactivity helps)\n",
    "# Alternative is to plot scatterplots of pairs of variables\n",
    "# Annoying in Matplotlib ... but\n",
    "\n",
    "import seaborn as sns\n",
    "res = sns.pairplot(data=alta.reset_index()[['DATE', 'SNOW', 'SNWD']])\n",
    "#res.axes[0][0].plot(range(10))"
   ]
  },
  {
   "cell_type": "code",
   "execution_count": null,
   "metadata": {},
   "outputs": [],
   "source": [
    "# notices the ``axes`` and ``fig``\n",
    "print(dir(res))"
   ]
  },
  {
   "cell_type": "code",
   "execution_count": null,
   "metadata": {},
   "outputs": [],
   "source": [
    "%matplotlib inline\n",
    "%matplotlib inline\n",
    "\n",
    "# pandas\n",
    "ax = y.plot()\n",
    "ax.set_title('Pandas plot of Snowdepth')"
   ]
  },
  {
   "cell_type": "code",
   "execution_count": null,
   "metadata": {},
   "outputs": [],
   "source": [
    "%matplotlib inline\n",
    "\n",
    "# pandas\n",
    "ax = y.iloc[-20:].plot.bar()\n",
    "ax.set_title('Pandas plot of Snowdepth')"
   ]
  },
  {
   "cell_type": "code",
   "execution_count": null,
   "metadata": {
    "lines_to_next_cell": 2
   },
   "outputs": [],
   "source": [
    "%matplotlib inline\n",
    "\n",
    "# pandas\n",
    "ax = y.iloc[-20:].plot.bar()\n",
    "ax.set_title('Pandas plot of Snowdepth')\n",
    "fig = ax.get_figure()\n",
    "fig.set_size_inches(8,6)\n",
    "fig.autofmt_xdate()"
   ]
  },
  {
   "cell_type": "code",
   "execution_count": null,
   "metadata": {},
   "outputs": [],
   "source": [
    "%matplotlib inline\n",
    "\n",
    "# pandas\n",
    "ax = y.iloc[-20:].plot.barh()\n",
    "ax.set_title('Pandas plot of Snowdepth')"
   ]
  },
  {
   "cell_type": "code",
   "execution_count": null,
   "metadata": {
    "lines_to_next_cell": 2
   },
   "outputs": [],
   "source": [
    "# note Matplotlib as of 1.5 has some support for pandas DataFrames\n",
    "fig = plt.figure()\n",
    "ax = fig.add_subplot(111)\n",
    "ax.plot('DATE', 'SNWD', data=alta)  \n",
    "#ax.plot(x='DATE', y='SNWD', data=alta)  # fails!"
   ]
  },
  {
   "cell_type": "markdown",
   "metadata": {},
   "source": [
    "## Other options for Plotting\n",
    "* Bokeh - Aimed at HTML plots (interactive)\n",
    "* Plotly - Service for plotting\n",
    "* Altair - Declarative visualization"
   ]
  },
  {
   "cell_type": "markdown",
   "metadata": {},
   "source": [
    "## Exercise: 3D and Pandas\n",
    "* Plot a 3D scatter plot with the ``nyc`` dataset, plotting 'Mean TemperatureF', ' Mean Humidity', and 'EST' (Hint might need to limit the number and only look at 1_000 or so)\n"
   ]
  },
  {
   "cell_type": "code",
   "execution_count": null,
   "metadata": {},
   "outputs": [],
   "source": []
  },
  {
   "cell_type": "code",
   "execution_count": null,
   "metadata": {},
   "outputs": [],
   "source": []
  },
  {
   "cell_type": "code",
   "execution_count": null,
   "metadata": {},
   "outputs": [],
   "source": []
  },
  {
   "cell_type": "code",
   "execution_count": null,
   "metadata": {},
   "outputs": [],
   "source": []
  },
  {
   "cell_type": "code",
   "execution_count": null,
   "metadata": {
    "lines_to_next_cell": 2
   },
   "outputs": [],
   "source": []
  }
 ],
 "metadata": {
  "kernelspec": {
   "display_name": "Python 3",
   "language": "python",
   "name": "python3"
  },
  "language_info": {
   "codemirror_mode": {
    "name": "ipython",
    "version": 3
   },
   "file_extension": ".py",
   "mimetype": "text/x-python",
   "name": "python",
   "nbconvert_exporter": "python",
   "pygments_lexer": "ipython3",
   "version": "3.7.4"
  }
 },
 "nbformat": 4,
 "nbformat_minor": 4
}
