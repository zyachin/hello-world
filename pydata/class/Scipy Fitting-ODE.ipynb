{
 "cells": [
  {
   "cell_type": "markdown",
   "metadata": {},
   "source": [
    "# SciPy"
   ]
  },
  {
   "cell_type": "code",
   "execution_count": null,
   "metadata": {},
   "outputs": [],
   "source": [
    "%matplotlib inline\n",
    "\n",
    "import matplotlib.pyplot as plt\n",
    "import numpy as np\n",
    "import pandas as pd\n",
    "try:\n",
    "    from scipy.integrate import solve_ivp\n",
    "except ImportError:\n",
    "    print('missing solve_ivp')\n",
    "    from scipy.integrate import odeint\n",
    "from scipy.interpolate import interp1d\n",
    "from scipy import optimize"
   ]
  },
  {
   "cell_type": "code",
   "execution_count": null,
   "metadata": {},
   "outputs": [],
   "source": [
    "import scipy\n",
    "scipy.__version__"
   ]
  },
  {
   "cell_type": "markdown",
   "metadata": {},
   "source": [
    "## ODE - solve_ivp"
   ]
  },
  {
   "cell_type": "markdown",
   "metadata": {},
   "source": [
    "Note: This is a conversion from the Scipy Lectures of the old ODE solver to the new one.\n",
    "\n",
    "Consider the ODE:\n",
    "\n",
    "$\\frac{dy}{dt} = -2*y$ \n",
    "\n",
    "Solve if for $t = 0...4$ and $y(t=0) = 1$"
   ]
  },
  {
   "cell_type": "code",
   "execution_count": null,
   "metadata": {},
   "outputs": [],
   "source": [
    "def dydt(t, y): \n",
    "    return -2 * y\n",
    "\n",
    "t_span = [0, 4]\n",
    "y0 = [1]\n",
    "\n",
    "sol = solve_ivp(dydt, t_span, y0)\n",
    "\n",
    "fig, ax = plt.subplots(figsize=(10,8))\n",
    "ax.plot(sol.t, sol.y[0], label='y0=1')\n",
    "ax.legend()"
   ]
  },
  {
   "cell_type": "code",
   "execution_count": null,
   "metadata": {},
   "outputs": [],
   "source": [
    "sol"
   ]
  },
  {
   "cell_type": "code",
   "execution_count": null,
   "metadata": {},
   "outputs": [],
   "source": [
    "def exponential_decay(t, y): \n",
    "    return -0.5 * y\n",
    "\n",
    "t_span = [0, 10]\n",
    "y0 = [2, 4, 8]\n",
    "sol = solve_ivp(exponential_decay, t_span, y0)\n"
   ]
  },
  {
   "cell_type": "code",
   "execution_count": null,
   "metadata": {},
   "outputs": [],
   "source": [
    "sol"
   ]
  },
  {
   "cell_type": "code",
   "execution_count": null,
   "metadata": {},
   "outputs": [],
   "source": [
    "fig, ax = plt.subplots(figsize=(10,8))\n",
    "ax.plot(sol.t, sol.y[0], label='y0=2')\n",
    "ax.plot(sol.t, sol.y[1], label='y0=4')\n",
    "ax.plot(sol.t, sol.y[2], label='y0=8')\n",
    "ax.legend()"
   ]
  },
  {
   "cell_type": "markdown",
   "metadata": {},
   "source": [
    "## ODE - odeint"
   ]
  },
  {
   "cell_type": "markdown",
   "metadata": {},
   "source": [
    "This is using the old odeint code.\n",
    "\n",
    "Consider the ODE:\n",
    "\n",
    "$\\frac{dy}{dt} = -2*y$ \n",
    "\n",
    "Solve if for $t = 0...4$ and $y(t=0) = 1$"
   ]
  },
  {
   "cell_type": "code",
   "execution_count": null,
   "metadata": {
    "lines_to_end_of_cell_marker": 2
   },
   "outputs": [],
   "source": [
    "def dydt(y, t):  # note order of y/t different from solve_ivp\n",
    "    return -2 * y\n",
    "\n",
    "ts = np.linspace(0, 4, 100)  \n",
    "y0 = 1\n",
    "ys = odeint(dydt, y0, ts)\n",
    "plt.plot(ts, ys)"
   ]
  },
  {
   "cell_type": "markdown",
   "metadata": {},
   "source": [
    "## ODE Exercise:\n",
    "\n",
    "* Solve the equation:\n",
    "\n",
    "$\\frac{dy}{dt} = \\frac{-4}{e^{1/y}}$ \n",
    "\n",
    "for $t = 0...10$ and $y(t=0) = 5$"
   ]
  },
  {
   "cell_type": "code",
   "execution_count": null,
   "metadata": {},
   "outputs": [],
   "source": []
  },
  {
   "cell_type": "code",
   "execution_count": null,
   "metadata": {},
   "outputs": [],
   "source": []
  },
  {
   "cell_type": "code",
   "execution_count": null,
   "metadata": {},
   "outputs": [],
   "source": []
  },
  {
   "cell_type": "code",
   "execution_count": null,
   "metadata": {},
   "outputs": [],
   "source": []
  },
  {
   "cell_type": "code",
   "execution_count": null,
   "metadata": {},
   "outputs": [],
   "source": []
  },
  {
   "cell_type": "markdown",
   "metadata": {},
   "source": [
    "## Interpolation"
   ]
  },
  {
   "cell_type": "markdown",
   "metadata": {},
   "source": [
    "https://imgs.xkcd.com/comics/curve_fitting.png"
   ]
  },
  {
   "cell_type": "code",
   "execution_count": null,
   "metadata": {},
   "outputs": [],
   "source": [
    "xkcd_df = pd.read_csv('../data/xkcd-2048.csv')\n",
    "xkcd_df.plot.scatter(x='x', y='y')"
   ]
  },
  {
   "cell_type": "code",
   "execution_count": null,
   "metadata": {},
   "outputs": [],
   "source": [
    "xkcd = xkcd_df.values\n",
    "xkcd"
   ]
  },
  {
   "cell_type": "code",
   "execution_count": null,
   "metadata": {},
   "outputs": [],
   "source": [
    "# linear model\n",
    "def lin_fn(x, m, b):\n",
    "    return m*x + b\n",
    "\n",
    "# can't have nans, infs in x/y\n",
    "params, params_covariance = optimize.curve_fit(lin_fn, xkcd[:,0], xkcd[:,1])\n",
    "print(params)\n",
    "\n",
    "m, b = params\n",
    "x = np.linspace(50, 180)\n",
    "fig, ax = plt.subplots(figsize=(10,8))\n",
    "xkcd_df.plot.scatter(x='x', y='y', ax=ax, c='k')\n",
    "ax.plot(x, x*m + b, c='r', linewidth=3)"
   ]
  },
  {
   "cell_type": "code",
   "execution_count": null,
   "metadata": {},
   "outputs": [],
   "source": [
    "# quad model\n",
    "def quad_fn(x, a, b, c):\n",
    "    return a*x**2 + b*x + c\n",
    "\n",
    "# can't have nans, infs in x/y\n",
    "params, params_covariance = optimize.curve_fit(quad_fn, xkcd[:,0], xkcd[:,1])\n",
    "print(params)\n",
    "\n",
    "a, b, c = params\n",
    "x = np.linspace(50, 180)\n",
    "fig, ax = plt.subplots(figsize=(10,8))\n",
    "xkcd_df.plot.scatter(x='x', y='y', ax=ax, c='k')\n",
    "_ = ax.plot(x, a*x**2 + b*x + c, c='r', linewidth=3)"
   ]
  },
  {
   "cell_type": "code",
   "execution_count": null,
   "metadata": {},
   "outputs": [],
   "source": [
    "# log model\n",
    "def log_fn(x, a, b, c):\n",
    "    return a*np.log(b*x) + c\n",
    "\n",
    "# can't have nans, infs in x/y\n",
    "params, params_covariance = optimize.curve_fit(log_fn, xkcd[:,0], xkcd[:,1])\n",
    "print(params)\n",
    "\n",
    "a, b, c = params\n",
    "x = np.linspace(50, 180)\n",
    "fig, ax = plt.subplots(figsize=(10,8))\n",
    "xkcd_df.plot.scatter(x='x', y='y', ax=ax, c='k')\n",
    "_ = ax.plot(x, a*np.log(b*x) + c, c='r', linewidth=3)"
   ]
  },
  {
   "cell_type": "code",
   "execution_count": null,
   "metadata": {},
   "outputs": [],
   "source": [
    "# sometimes the seed is important\n",
    "\n",
    "# exp model\n",
    "def exp_fn(x, a, b, c):\n",
    "    return a*np.exp(b*x) + c\n",
    "\n",
    "p0 = (1, .1, 1)\n",
    "#p0 = (3, .2, 30)\n",
    "# can't have nans, infs in x/y\n",
    "params, params_covariance = optimize.curve_fit(exp_fn, xkcd[:,0], xkcd[:,1], p0=p0)\n",
    "print(params)\n",
    "\n",
    "a, b, c = params\n",
    "x = np.linspace(50, 180)\n",
    "fig, ax = plt.subplots(figsize=(10,8))\n",
    "xkcd_df.plot.scatter(x='x', y='y', ax=ax, c='k')\n",
    "_ = ax.plot(x, exp_fn(x, a, b, c), c='r', linewidth=3)"
   ]
  },
  {
   "cell_type": "code",
   "execution_count": null,
   "metadata": {},
   "outputs": [],
   "source": [
    "# flat model\n",
    "def flat_fn(x, a):\n",
    "    return [a] * len(x)\n",
    "\n",
    "# can't have nans, infs in x/y\n",
    "params, params_covariance = optimize.curve_fit(flat_fn, xkcd[:,0], xkcd[:,1])\n",
    "print(params)\n",
    "\n",
    "a = params\n",
    "x = np.linspace(50, 180)\n",
    "fig, ax = plt.subplots(figsize=(10,8))\n",
    "xkcd_df.plot.scatter(x='x', y='y', ax=ax, c='k')\n",
    "_ = ax.plot(x, flat_fn(x, a), c='r', linewidth=3)"
   ]
  },
  {
   "cell_type": "code",
   "execution_count": null,
   "metadata": {},
   "outputs": [],
   "source": [
    "# hacking to figure out sigmoid initial values\n",
    "def sigmoid_fn3(x, a, b, c, d):\n",
    "    return a / (1. + np.exp(-c * (x - d))) + b\n",
    "\n",
    "x = np.linspace(-10, 200, 100)\n",
    "args = (100, 30, .1, 100)\n",
    "y = sigmoid_fn3(x, *args)\n",
    "plt.plot(x, y)"
   ]
  },
  {
   "cell_type": "code",
   "execution_count": null,
   "metadata": {},
   "outputs": [],
   "source": [
    "# log reg (sigmoid) model\n",
    "def sigmoid_fn3(x, a, b, c, d):\n",
    "    return a / (1. + np.exp(-c * (x - d))) + b\n",
    "\n",
    "p0 =(100, 30, .01, 110)\n",
    "#p0 = (1, 1, 1, 1)  # this gives a flat line\n",
    "# p0 = (100,1,.01,1) # this works\n",
    "# can't have nans, infs in x/y\n",
    "params, params_covariance = optimize.curve_fit(\n",
    "    sigmoid_fn3, xkcd[:,0], xkcd[:,1], \n",
    "    p0=p0\n",
    ")\n",
    "print(params)\n",
    "\n",
    "x = np.linspace(50, 180)\n",
    "fig, ax = plt.subplots(figsize=(10,8))\n",
    "xkcd_df.plot.scatter(x='x', y='y', ax=ax, c='k')\n",
    "_ = ax.plot(x, sigmoid_fn3(x, *params), c='r', linewidth=3)"
   ]
  },
  {
   "cell_type": "code",
   "execution_count": null,
   "metadata": {
    "lines_to_next_cell": 2
   },
   "outputs": [],
   "source": [
    "# overfitting with sklearn\n",
    "from sklearn.tree import DecisionTreeRegressor\n",
    "dtr = DecisionTreeRegressor()\n",
    "dtr.fit(xkcd_df[['x']], xkcd_df['y'])\n",
    "\n",
    "x = np.linspace(50, 180, 300)\n",
    "fig, ax = plt.subplots(figsize=(10,8))\n",
    "xkcd_df.plot.scatter(x='x', y='y', ax=ax, c='k')\n",
    "_ = ax.plot(x, dtr.predict(x.reshape(len(x), 1)), c='r', linewidth=3)"
   ]
  },
  {
   "cell_type": "markdown",
   "metadata": {},
   "source": [
    "## Lab data\n",
    "\n",
    "Loading Anscombe's Quartet"
   ]
  },
  {
   "cell_type": "code",
   "execution_count": null,
   "metadata": {},
   "outputs": [],
   "source": [
    "ans = pd.read_csv('../data/anscombes.csv')\n",
    "g = ans.groupby('dataset')\n",
    "(_, ans1),(_, ans2),(_, ans3),(_, ans4) = list(g)"
   ]
  },
  {
   "cell_type": "code",
   "execution_count": null,
   "metadata": {
    "lines_to_next_cell": 2
   },
   "outputs": [],
   "source": []
  },
  {
   "cell_type": "markdown",
   "metadata": {},
   "source": [
    "## Exercise:\n",
    "\n",
    "* Solve each or the 4 datasets of Anscombe's quartet with an equation.\n",
    "* Plot the solution for each"
   ]
  },
  {
   "cell_type": "code",
   "execution_count": null,
   "metadata": {},
   "outputs": [],
   "source": []
  },
  {
   "cell_type": "code",
   "execution_count": null,
   "metadata": {},
   "outputs": [],
   "source": []
  },
  {
   "cell_type": "code",
   "execution_count": null,
   "metadata": {},
   "outputs": [],
   "source": []
  },
  {
   "cell_type": "code",
   "execution_count": null,
   "metadata": {},
   "outputs": [],
   "source": []
  },
  {
   "cell_type": "code",
   "execution_count": null,
   "metadata": {},
   "outputs": [],
   "source": []
  },
  {
   "cell_type": "code",
   "execution_count": null,
   "metadata": {},
   "outputs": [],
   "source": []
  },
  {
   "cell_type": "code",
   "execution_count": null,
   "metadata": {},
   "outputs": [],
   "source": []
  },
  {
   "cell_type": "code",
   "execution_count": null,
   "metadata": {},
   "outputs": [],
   "source": []
  },
  {
   "cell_type": "code",
   "execution_count": null,
   "metadata": {},
   "outputs": [],
   "source": []
  },
  {
   "cell_type": "code",
   "execution_count": null,
   "metadata": {
    "lines_to_next_cell": 2
   },
   "outputs": [],
   "source": []
  },
  {
   "cell_type": "markdown",
   "metadata": {},
   "source": [
    "## Curve fitting Snow Depth"
   ]
  },
  {
   "cell_type": "code",
   "execution_count": null,
   "metadata": {},
   "outputs": [],
   "source": [
    "snow_df = pd.read_csv('../data/snow-alta-1990-2017.csv')"
   ]
  },
  {
   "cell_type": "code",
   "execution_count": null,
   "metadata": {},
   "outputs": [],
   "source": [
    "snow_arr_y = snow_df.SNWD.interpolate().values\n",
    "snow_arr_x = np.linspace(0, len(snow_arr_y), num=len(snow_arr_y))"
   ]
  },
  {
   "cell_type": "code",
   "execution_count": null,
   "metadata": {},
   "outputs": [],
   "source": [
    "snow_df[snow_df.SNWD.isnull()]"
   ]
  },
  {
   "cell_type": "code",
   "execution_count": null,
   "metadata": {},
   "outputs": [],
   "source": [
    "plt.plot(snow_arr_x, snow_arr_y)"
   ]
  },
  {
   "cell_type": "code",
   "execution_count": null,
   "metadata": {},
   "outputs": [],
   "source": [
    "optimize.least_squares"
   ]
  },
  {
   "cell_type": "code",
   "execution_count": null,
   "metadata": {},
   "outputs": [],
   "source": [
    "# linear model\n",
    "def lin_fn(x, m, b):\n",
    "    return m*x + b\n",
    "\n",
    "# can't have nans, infs in x/y\n",
    "params, params_covariance = optimize.curve_fit(lin_fn, snow_arr_x, snow_arr_y)\n",
    "params"
   ]
  },
  {
   "cell_type": "code",
   "execution_count": null,
   "metadata": {},
   "outputs": [],
   "source": [
    "ax, fig = plt.subplots(figsize=(10,8))\n",
    "plt.plot(snow_arr_x, snow_arr_y)\n",
    "m, b = params\n",
    "plt.plot(snow_arr_x, snow_arr_x*m + b)"
   ]
  },
  {
   "cell_type": "code",
   "execution_count": null,
   "metadata": {},
   "outputs": [],
   "source": []
  },
  {
   "cell_type": "code",
   "execution_count": null,
   "metadata": {},
   "outputs": [],
   "source": [
    "\n",
    "# sine model\n",
    "def sin_fn(x, amp, freq, phase, offset):\n",
    "    return amp*np.sin(freq*x+phase) + offset\n",
    "\n",
    "size = 2400\n",
    "#size = len(snow_arr_y)\n",
    "\n",
    "amp = 1000\n",
    "freq = 3*np.std(snow_arr_y[:size])/(2**.5)\n",
    "freq = 2e-2\n",
    "phase = 1\n",
    "offset = 1\n",
    "p0 = [amp, freq, phase, offset]\n",
    "# can't have nans, infs in x/y\n",
    "\n",
    "params_sin, params_covariance = optimize.curve_fit(\n",
    "    sin_fn, snow_arr_x[:size], snow_arr_y[:size], p0=p0)\n",
    "print(params_sin)\n",
    "ax, fig = plt.subplots(figsize=(10,8))\n",
    "plt.plot(snow_arr_x[:size], snow_arr_y[:size])\n",
    "a, b, c, d = params_sin\n",
    "#plt.plot(snow_arr_x, a*np.sin(b*snow_arr_x) + c)\n",
    "#plt.plot(snow_arr_x, sin_fn(snow_arr_x, a*400, 10e-3*b, c, d))\n",
    "plt.plot(snow_arr_x[:size], sin_fn(snow_arr_x[:size], a, b, c, d))\n"
   ]
  }
 ],
 "metadata": {
  "kernelspec": {
   "display_name": "Python 3",
   "language": "python",
   "name": "python3"
  },
  "language_info": {
   "codemirror_mode": {
    "name": "ipython",
    "version": 3
   },
   "file_extension": ".py",
   "mimetype": "text/x-python",
   "name": "python",
   "nbconvert_exporter": "python",
   "pygments_lexer": "ipython3",
   "version": "3.7.4"
  }
 },
 "nbformat": 4,
 "nbformat_minor": 4
}
