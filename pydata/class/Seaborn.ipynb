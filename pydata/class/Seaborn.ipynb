{
 "cells": [
  {
   "cell_type": "code",
   "execution_count": null,
   "metadata": {
    "lines_to_next_cell": 0
   },
   "outputs": [],
   "source": []
  },
  {
   "cell_type": "code",
   "execution_count": null,
   "metadata": {},
   "outputs": [],
   "source": [
    "%matplotlib inline\n",
    "import matplotlib.pyplot as plt\n",
    "import pandas as pd\n",
    "import seaborn as sns\n",
    "# for color brewer palette also need to\n",
    "#  pip install ipywidgets\n",
    "#  jupyter extension enable --py widgetsnbextension"
   ]
  },
  {
   "cell_type": "code",
   "execution_count": null,
   "metadata": {},
   "outputs": [],
   "source": [
    "sns.__version__"
   ]
  },
  {
   "cell_type": "code",
   "execution_count": null,
   "metadata": {},
   "outputs": [],
   "source": [
    "# Vehicle data - https://www.fueleconomy.gov/feg/download.shtml\n",
    "# Documentation https://www.fueleconomy.gov/feg/ws/index.shtml#vehicle\n",
    "# Datasets for All Model Years (1984–2018)\n",
    "\n",
    "fueleco = pd.read_csv('../data/vehicles.csv.zip')"
   ]
  },
  {
   "cell_type": "code",
   "execution_count": null,
   "metadata": {},
   "outputs": [],
   "source": [
    "fueleco"
   ]
  },
  {
   "cell_type": "code",
   "execution_count": null,
   "metadata": {},
   "outputs": [],
   "source": [
    "fueleco.dtypes"
   ]
  },
  {
   "cell_type": "code",
   "execution_count": null,
   "metadata": {},
   "outputs": [],
   "source": [
    "# Let's look at categorical columns\n",
    "# drive, make, model, trany, VClass, \n",
    "# drive - drive axle type\n",
    "# make - manufacturer (division)\n",
    "# model - model name (carline)\n",
    "# trany - transmission\n",
    "# VClass - EPA vehicle size class\n",
    "fueleco.select_dtypes(include=[\"object\"]).T"
   ]
  },
  {
   "cell_type": "code",
   "execution_count": null,
   "metadata": {},
   "outputs": [],
   "source": [
    "# cylinders could be considered categorical\n",
    "# year as well\n",
    "# barrels08 - annual petroleum consumption in barrels for fuelType1 (1)\n",
    "# city08 - city MPG for fuelType1 (2), (11)\n",
    "# comb08 - combined MPG for fuelType1 (2), (11)\n",
    "# cylinders - engine cylinders\n",
    "# highway08 - highway MPG for fuelType1 (2), (11)\n",
    "# year - model year\n",
    "\n",
    "\n",
    "fueleco.select_dtypes([int, float]).T"
   ]
  },
  {
   "cell_type": "code",
   "execution_count": null,
   "metadata": {},
   "outputs": [],
   "source": [
    "cols = 'drive,make,model,trany,VClass,barrels08,city08,comb08,cylinders,highway08,year'\n",
    "auto = fueleco[cols.split(',')]"
   ]
  },
  {
   "cell_type": "code",
   "execution_count": null,
   "metadata": {},
   "outputs": [],
   "source": [
    "auto.T"
   ]
  },
  {
   "cell_type": "markdown",
   "metadata": {},
   "source": [
    "## 1D - Categorical"
   ]
  },
  {
   "cell_type": "code",
   "execution_count": null,
   "metadata": {},
   "outputs": [],
   "source": [
    "# 1D - Categorical\n",
    "sns.countplot(x='make', data=auto)"
   ]
  },
  {
   "cell_type": "code",
   "execution_count": null,
   "metadata": {},
   "outputs": [],
   "source": [
    "# 1D - Categorical\n",
    "# Bump size\n",
    "fig, ax = plt.subplots(figsize=(8,6))\n",
    "sns.countplot(x='make', data=auto, ax=ax)"
   ]
  },
  {
   "cell_type": "code",
   "execution_count": null,
   "metadata": {},
   "outputs": [],
   "source": [
    "auto.make.value_counts()"
   ]
  },
  {
   "cell_type": "code",
   "execution_count": null,
   "metadata": {},
   "outputs": [],
   "source": [
    "avc = auto.make.value_counts()\n",
    "top10 = avc.index[:10]\n",
    "sns.countplot(y='make2',\n",
    "    data=auto.assign(make2=auto.make.where(auto.make.isin(top10), 'Other'))\n",
    "             )"
   ]
  },
  {
   "cell_type": "code",
   "execution_count": null,
   "metadata": {
    "lines_to_next_cell": 2
   },
   "outputs": [],
   "source": [
    "# 1D - Categorical\n",
    "# Can add order\n",
    "fig, ax = plt.subplots(figsize=(8,6))\n",
    "sns.countplot(x='make', data=auto, ax=ax, \n",
    "              order=['Chevrolet', 'Ford', 'Dodge', 'GMC', 'Toyota'])"
   ]
  },
  {
   "cell_type": "code",
   "execution_count": null,
   "metadata": {
    "lines_to_next_cell": 2
   },
   "outputs": [],
   "source": [
    "# 1D - Categorical\n",
    "# Can add hue option to embed small 2nd dimension\n",
    "fig, ax = plt.subplots(figsize=(8,6))\n",
    "sns.countplot(x='make', data=auto, ax=ax, \n",
    "              order=['Chevrolet', 'Ford', 'Dodge', 'GMC', 'Toyota'],\n",
    "             hue='year')"
   ]
  },
  {
   "cell_type": "markdown",
   "metadata": {},
   "source": [
    "## 1D Exercise\n",
    "* Plot a 1D plot for categorical data\n"
   ]
  },
  {
   "cell_type": "code",
   "execution_count": null,
   "metadata": {},
   "outputs": [],
   "source": []
  },
  {
   "cell_type": "code",
   "execution_count": null,
   "metadata": {},
   "outputs": [],
   "source": []
  },
  {
   "cell_type": "markdown",
   "metadata": {},
   "source": [
    "## 1D - Continuous Plots"
   ]
  },
  {
   "cell_type": "code",
   "execution_count": null,
   "metadata": {},
   "outputs": [],
   "source": [
    "# 1D - Continuous\n",
    "sns.displot(auto.city08)"
   ]
  },
  {
   "cell_type": "code",
   "execution_count": null,
   "metadata": {},
   "outputs": [],
   "source": [
    "# 1D - Continuous - add \"rug\"\n",
    "sns.displot(auto.city08, rug=True)"
   ]
  },
  {
   "cell_type": "code",
   "execution_count": null,
   "metadata": {},
   "outputs": [],
   "source": [
    "# 1D - Continuous\n",
    "# Be sure to check out the documentation for various options\n",
    "# \n",
    "sns.displot(auto.city08, \n",
    "            stat='density', # option to sns.histplot\n",
    "            bins=12)"
   ]
  },
  {
   "cell_type": "code",
   "execution_count": null,
   "metadata": {},
   "outputs": [],
   "source": [
    "# what about plotting the city/comb/highway?\n",
    "# Need to melt data\n",
    "(pd.melt(auto, value_vars=['city08', 'comb08', 'highway08'], \n",
    "         value_name='mpg', var_name='type', id_vars=['year'])\n",
    ")"
   ]
  },
  {
   "cell_type": "code",
   "execution_count": null,
   "metadata": {},
   "outputs": [],
   "source": [
    "sns.displot(data=(pd.melt(auto, value_vars=['city08', 'comb08', 'highway08'],\n",
    "                          value_name='mpg', var_name='type', id_vars=['year'])),\n",
    "            x='mpg', hue='type')"
   ]
  },
  {
   "cell_type": "code",
   "execution_count": null,
   "metadata": {},
   "outputs": [],
   "source": [
    "sns.displot(data=(pd.melt(auto, value_vars=['city08', 'comb08', 'highway08'], value_name='mpg', var_name='type', id_vars=['year'])\n",
    "                 .query('mpg < 40')),\n",
    "            x='mpg', hue='type', aspect=2, bins=30)"
   ]
  },
  {
   "cell_type": "code",
   "execution_count": null,
   "metadata": {},
   "outputs": [],
   "source": [
    "sns.displot(data=(pd.melt(auto, value_vars=['city08', 'comb08', 'highway08'],value_name='mpg', var_name='type', id_vars=['year'])\n",
    "                 .query('mpg < 40')),\n",
    "            kind='kde', fill=True, x='mpg', hue='type', aspect=2)"
   ]
  },
  {
   "cell_type": "code",
   "execution_count": null,
   "metadata": {},
   "outputs": [],
   "source": [
    "sns.displot(data=(pd.melt(auto, value_vars=['city08', 'comb08', 'highway08'], value_name='mpg', var_name='type', id_vars=['year'])\n",
    "                 .query('mpg < 40')),\n",
    "            kind='kde', fill=True, x='mpg', hue='type', aspect=2,\n",
    "           col='year', col_wrap=2, col_order=[1985, 1990,1995,2000,2005,2010],\n",
    "           palette='viridis')"
   ]
  },
  {
   "cell_type": "code",
   "execution_count": null,
   "metadata": {},
   "outputs": [],
   "source": [
    "# If you just want KDE plot can use kdeplot\n",
    "# plot multiple on same ax\n",
    "fig, ax = plt.subplots(figsize=(7,5))\n",
    "sns.kdeplot(auto.city08, ax=ax, fill=True)\n",
    "sns.kdeplot(auto.comb08, ax=ax, fill=True)\n",
    "sns.kdeplot(auto.highway08, ax=ax, fill=True)\n",
    "ax.set_xlim(0, 50)"
   ]
  },
  {
   "cell_type": "markdown",
   "metadata": {},
   "source": [
    "## 1D Exercise\n",
    "\n",
    "* Plot a 1D plot for continuous data"
   ]
  },
  {
   "cell_type": "code",
   "execution_count": null,
   "metadata": {},
   "outputs": [],
   "source": []
  },
  {
   "cell_type": "code",
   "execution_count": null,
   "metadata": {},
   "outputs": [],
   "source": []
  },
  {
   "cell_type": "code",
   "execution_count": null,
   "metadata": {},
   "outputs": [],
   "source": []
  },
  {
   "cell_type": "markdown",
   "metadata": {},
   "source": [
    "## 2D - Cont-Cont\n",
    "We can use ``relplot``, ``lmplot``, and ``jointplot``"
   ]
  },
  {
   "cell_type": "code",
   "execution_count": null,
   "metadata": {},
   "outputs": [],
   "source": [
    "sns.relplot(x='city08', y='comb08', data=auto)"
   ]
  },
  {
   "cell_type": "code",
   "execution_count": null,
   "metadata": {},
   "outputs": [],
   "source": [
    "# Note return type (can use ax, better to use height/aspect)\n",
    "fig, ax = plt.subplots(figsize=(8,6))\n",
    "sns.relplot(x='city08', y='comb08', data=auto, alpha=.5, ax=ax)"
   ]
  },
  {
   "cell_type": "code",
   "execution_count": null,
   "metadata": {},
   "outputs": [],
   "source": [
    "# Note return type (can use ax, better to use height/aspect)\n",
    "sns.relplot(x='city08', y='comb08', data=auto, alpha=.5,\n",
    "            height=5, aspect=2)"
   ]
  },
  {
   "cell_type": "code",
   "execution_count": null,
   "metadata": {},
   "outputs": [],
   "source": [
    "# Can add multiple dimensions with size (cont), hue (cat)\n",
    "sns.relplot(x='city08', y='highway08', data=auto, alpha=.5,\n",
    "            height=5, aspect=1.6, size='cylinders', hue='year')"
   ]
  },
  {
   "cell_type": "code",
   "execution_count": null,
   "metadata": {},
   "outputs": [],
   "source": [
    "# Can add multiple dimensions with size (cont), hue (cat)\n",
    "# bump up size with sizes (min/max)\n",
    "# Can also facet with row/col\n",
    "sns.relplot(x='city08', y='highway08', data=auto, alpha=.5,\n",
    "            height=5, aspect=1, #size='cylinders', \n",
    "            col='cylinders', col_wrap=3,\n",
    "            hue='year')"
   ]
  },
  {
   "cell_type": "code",
   "execution_count": null,
   "metadata": {},
   "outputs": [],
   "source": [
    "# use lmplot to draw regression\n",
    "sns.lmplot(x='city08', y='comb08', data=auto)"
   ]
  },
  {
   "cell_type": "code",
   "execution_count": null,
   "metadata": {},
   "outputs": [],
   "source": [
    "# use lmplot to draw regression\n",
    "sns.lmplot(x='city08', y='comb08', data=auto, hue='year', hue_order=[1985, 1990, 1995, 2000, 2005, 2010])"
   ]
  },
  {
   "cell_type": "code",
   "execution_count": null,
   "metadata": {},
   "outputs": [],
   "source": [
    "# use lmplot to draw regression\n",
    "sns.lmplot(x='city08', y='comb08', data=auto, col='year', col_order=[1985, 1990, 1995, 2000, 2005, 2010], col_wrap=2)"
   ]
  },
  {
   "cell_type": "code",
   "execution_count": null,
   "metadata": {},
   "outputs": [],
   "source": [
    "# use lmplot to draw regression\n",
    "sns.lmplot(x='year', y='comb08', data=auto[auto.year > 2005])"
   ]
  },
  {
   "cell_type": "code",
   "execution_count": null,
   "metadata": {},
   "outputs": [],
   "source": [
    "# use lmplot to draw regression\n",
    "# can add jitter (height 0.9 param, use size in 0.8)\n",
    "sns.lmplot(x='year', y='comb08', data=auto[auto.year > 2005],\n",
    "           x_jitter=.3,\n",
    "           height=4\n",
    "          )"
   ]
  },
  {
   "cell_type": "code",
   "execution_count": null,
   "metadata": {},
   "outputs": [],
   "source": [
    "# use lmplot to draw regression\n",
    "# can add jitter\n",
    "# use hue/row/col to add more dimensions\n",
    "sns.lmplot(x='year', y='comb08', data=auto[(auto.year > 2005) &\n",
    "                    (auto.make.isin(['Ford', 'Toyota']))],\n",
    "          x_jitter=.2, size=8, \n",
    "           col='make')"
   ]
  },
  {
   "cell_type": "code",
   "execution_count": null,
   "metadata": {},
   "outputs": [],
   "source": [
    "# All the continuous values\n",
    "# (Careful can take some time!)\n",
    "sns.pairplot(auto.sample(1_000))"
   ]
  },
  {
   "cell_type": "code",
   "execution_count": null,
   "metadata": {},
   "outputs": [],
   "source": [
    "fig, ax = plt.subplots(figsize=(8,8))\n",
    "sns.heatmap(auto.corr(), annot=True, cmap='RdBu', \n",
    "            annot_kws={'size':20}, ax=ax,\n",
    "            vmin=-1, vmax=1)"
   ]
  },
  {
   "cell_type": "code",
   "execution_count": null,
   "metadata": {},
   "outputs": [],
   "source": [
    "# use figsize for clustermap\n",
    "sns.clustermap(auto.corr(), annot=True, cmap='RdBu', \n",
    "               annot_kws={'size':12},\n",
    "               figsize=(6,6),\n",
    "               vmin=-1, vmax=1)"
   ]
  },
  {
   "cell_type": "markdown",
   "metadata": {},
   "source": [
    "## 2D Cont-Cont Exercise\n",
    "* Plot a 2D plot of two continuous variables\n",
    "* Plot a pairplot with the data (or try a portion first)"
   ]
  },
  {
   "cell_type": "code",
   "execution_count": null,
   "metadata": {},
   "outputs": [],
   "source": []
  },
  {
   "cell_type": "code",
   "execution_count": null,
   "metadata": {},
   "outputs": [],
   "source": []
  },
  {
   "cell_type": "code",
   "execution_count": null,
   "metadata": {},
   "outputs": [],
   "source": []
  },
  {
   "cell_type": "markdown",
   "metadata": {},
   "source": [
    "## 2D Cat-Cont"
   ]
  },
  {
   "cell_type": "code",
   "execution_count": null,
   "metadata": {},
   "outputs": [],
   "source": [
    "sns.catplot(x='city08', y='make', data=auto)"
   ]
  },
  {
   "cell_type": "code",
   "execution_count": null,
   "metadata": {},
   "outputs": [],
   "source": [
    "sns.catplot(x='city08', y='make', data=auto, order=['Chevrolet', 'Ford', 'Dodge', 'GMC', 'Toyota'])"
   ]
  },
  {
   "cell_type": "code",
   "execution_count": null,
   "metadata": {},
   "outputs": [],
   "source": [
    "sns.catplot(x='city08', y='make', data=auto, order=['Chevrolet', 'Ford', 'Dodge', 'GMC', 'Toyota'],\n",
    "           kind='box')"
   ]
  },
  {
   "cell_type": "code",
   "execution_count": null,
   "metadata": {},
   "outputs": [],
   "source": [
    "sns.catplot(x='city08', y='make', data=auto, order=['Chevrolet', 'Ford', 'Dodge', 'GMC', 'Toyota'],\n",
    "           kind='violin')"
   ]
  },
  {
   "cell_type": "code",
   "execution_count": null,
   "metadata": {},
   "outputs": [],
   "source": [
    "sns.catplot(x='city08', y='make', data=auto, order=['Chevrolet', 'Ford', 'Dodge', 'GMC', 'Toyota'],\n",
    "           kind='boxen')"
   ]
  },
  {
   "cell_type": "code",
   "execution_count": null,
   "metadata": {},
   "outputs": [],
   "source": [
    "sns.catplot(x='city08', y='make', data=auto, order=['Chevrolet', 'Ford', 'Dodge', 'GMC', 'Toyota'],\n",
    "           kind='strip')"
   ]
  },
  {
   "cell_type": "code",
   "execution_count": null,
   "metadata": {},
   "outputs": [],
   "source": [
    "# add hue for a new dimension\n",
    "sns.catplot(x='city08', y='make', data=auto, order=['Chevrolet', 'Ford'],# 'Dodge', 'GMC', 'Toyota'],\n",
    "           kind='boxen', hue='cylinders', palette='viridis', aspect=2)"
   ]
  },
  {
   "cell_type": "markdown",
   "metadata": {},
   "source": [
    "## 2D Cat-Cont Exercise:\n",
    "* Using the ``catplot`` function, create two plots of your data using two different kinds of plots. Which plot kind works better for your plot? Why did you choose it?"
   ]
  },
  {
   "cell_type": "code",
   "execution_count": null,
   "metadata": {},
   "outputs": [],
   "source": []
  },
  {
   "cell_type": "code",
   "execution_count": null,
   "metadata": {},
   "outputs": [],
   "source": []
  },
  {
   "cell_type": "markdown",
   "metadata": {},
   "source": [
    "## Cat-Cat\n",
    "@randyzwitch I don't really like stacked bar charts, I'd suggest maybe using pointplot / factorplot with kind=point\n",
    "\n",
    "— Michael Waskom (@michaelwaskom) September 4, 2014\n",
    "\n",
    "Status 2018 - ``pointplot`` requires a continuous variable. ``factorplot`` - deprecated in favor of ``catplot``"
   ]
  },
  {
   "cell_type": "code",
   "execution_count": null,
   "metadata": {},
   "outputs": [],
   "source": [
    "pd.crosstab(auto.VClass, auto.make)"
   ]
  },
  {
   "cell_type": "code",
   "execution_count": null,
   "metadata": {},
   "outputs": [],
   "source": [
    "# For count plots can only specify x or y (not both)\n",
    "# Put one category in x|y the other in hue\n",
    "mask = auto.make.isin(['Chevrolet', 'Ford', 'Dodge', 'GMC', 'Toyota'])\n",
    "sns.catplot(y='make', hue='VClass', \n",
    "            data=auto[mask].sample(100), kind='count', size=10)"
   ]
  },
  {
   "cell_type": "code",
   "execution_count": null,
   "metadata": {},
   "outputs": [],
   "source": [
    "# stacked with pandas\n",
    "mask = auto.make.isin(['Chevrolet', 'Ford', 'Dodge', 'GMC', 'Toyota'])\n",
    "\n",
    "(\n",
    "    auto[mask]\n",
    "    .sample(100)\n",
    "    .groupby(['VClass', 'make'])\n",
    "    .size()\n",
    "    .unstack()\n",
    "    .plot(kind='bar', stacked=True)\n",
    "    .legend(bbox_to_anchor=(1,1))\n",
    ")"
   ]
  },
  {
   "cell_type": "code",
   "execution_count": null,
   "metadata": {},
   "outputs": [],
   "source": [
    "# above is simpler with crosstab\n",
    "mask = auto.make.isin(['Chevrolet', 'Ford', 'Dodge', 'GMC', 'Toyota'])\n",
    "(\n",
    "    pd.crosstab(auto[mask].VClass, auto[mask].make)\n",
    "    .plot(kind='bar', stacked=True)\n",
    "    .legend(bbox_to_anchor=(1,1))\n",
    ")"
   ]
  },
  {
   "cell_type": "code",
   "execution_count": null,
   "metadata": {},
   "outputs": [],
   "source": [
    "# normalized stacked with pandas\n",
    "makes = ['Chevrolet', 'Toyota', 'Ford', 'Dodge', 'GMC']\n",
    "mask = auto.make.isin(makes)\n",
    "(\n",
    "    auto.loc[mask]\n",
    "    .pipe(lambda df: pd.crosstab(df.VClass, df.make))\n",
    "    .pipe(lambda df: df.div(df.sum(1), axis=0))\n",
    "    .sort_values('Chevrolet', ascending=False) # highest to lowest\n",
    "    [makes]   # this changes the stack order\n",
    "    .plot(kind='bar', stacked=True, cmap='Set3')\n",
    "    .legend(bbox_to_anchor=(1,1))\n",
    ")"
   ]
  },
  {
   "cell_type": "code",
   "execution_count": null,
   "metadata": {},
   "outputs": [],
   "source": [
    "# not stacked with pandas\n",
    "fig, ax = plt.subplots(figsize=(8,6))\n",
    "(\n",
    "    auto[mask]\n",
    "    .sample(100)\n",
    "    .pipe(lambda df: pd.crosstab(df.VClass, df.make))\n",
    "    .plot(kind='bar', stacked=False, ax=ax)\n",
    ")"
   ]
  },
  {
   "cell_type": "code",
   "execution_count": null,
   "metadata": {},
   "outputs": [],
   "source": [
    "# stacked with pandas\n",
    "(\n",
    "    auto[mask]\n",
    "    .sample(100, random_state=42)\n",
    "    .pipe(lambda df: pd.crosstab(df.make, df.VClass))\n",
    "    .plot(kind='bar', stacked=True)\n",
    "    .legend(bbox_to_anchor=(1,1))\n",
    ")"
   ]
  },
  {
   "cell_type": "code",
   "execution_count": null,
   "metadata": {},
   "outputs": [],
   "source": [
    "# comparing categorical with target (Classification)\n",
    "# stacked with pandas\n",
    "ford_mask = auto.make == 'Ford'\n",
    "toyota_mask = auto.make == 'Toyota'\n",
    "(\n",
    "    auto[ford_mask | toyota_mask]\n",
    "    .pipe(lambda df: pd.crosstab(df.VClass, df.make))\n",
    "    .pipe(lambda df: df.div(df.sum(1), axis=0))\n",
    "    .sort_values('Ford', ascending=False)\n",
    "    .plot(kind='bar', stacked=True)\n",
    "    .legend(bbox_to_anchor=(1,1))\n",
    ")"
   ]
  },
  {
   "cell_type": "markdown",
   "metadata": {},
   "source": [
    "## Cat-cat Exercise\n",
    "* Plot a two category columns against each other"
   ]
  },
  {
   "cell_type": "code",
   "execution_count": null,
   "metadata": {},
   "outputs": [],
   "source": []
  },
  {
   "cell_type": "code",
   "execution_count": null,
   "metadata": {},
   "outputs": [],
   "source": []
  },
  {
   "cell_type": "code",
   "execution_count": null,
   "metadata": {},
   "outputs": [],
   "source": []
  },
  {
   "cell_type": "markdown",
   "metadata": {},
   "source": [
    "## Time series (date-cont)"
   ]
  },
  {
   "cell_type": "code",
   "execution_count": null,
   "metadata": {},
   "outputs": [],
   "source": [
    "# lineplot in 0.9\n",
    "# code in pandas for 0.8\n",
    "auto.groupby('year')['city08'].mean().plot()"
   ]
  },
  {
   "cell_type": "code",
   "execution_count": null,
   "metadata": {},
   "outputs": [],
   "source": [
    "# lineplot in 0.9\n",
    "# code in pandas for 0.8\n",
    "auto.groupby('year')['city08'].agg(['min', 'mean',  'median']).plot()"
   ]
  },
  {
   "cell_type": "code",
   "execution_count": null,
   "metadata": {},
   "outputs": [],
   "source": [
    "# lineplot is 0.9\n",
    "sns.lineplot(x='year', y='city08', data=auto)"
   ]
  },
  {
   "cell_type": "code",
   "execution_count": null,
   "metadata": {},
   "outputs": [],
   "source": [
    "fig, ax = plt.subplots(figsize=(8,6))\n",
    "sns.lineplot(x='year', y='city08', data=auto, ax=ax)"
   ]
  },
  {
   "cell_type": "code",
   "execution_count": null,
   "metadata": {},
   "outputs": [],
   "source": [
    "# can use hue, style, size to add dimensions\n",
    "fig, ax = plt.subplots(figsize=(8,6))\n",
    "sns.lineplot(x='year', y='city08', size='VClass', data=auto, ax=ax)\n",
    "ax.legend(bbox_to_anchor=(1,1))"
   ]
  },
  {
   "cell_type": "markdown",
   "metadata": {},
   "source": [
    "use relplot (kind='line') to facet by col/row"
   ]
  },
  {
   "cell_type": "code",
   "execution_count": null,
   "metadata": {},
   "outputs": [],
   "source": []
  },
  {
   "cell_type": "code",
   "execution_count": null,
   "metadata": {},
   "outputs": [],
   "source": [
    "# can use hue, style, size to add dimensions\n",
    "fig, ax = plt.subplots(figsize=(8,6))\n",
    "data = auto.groupby(['year', 'VClass'])['city08'].mean().unstack()\n",
    "colors = ['#8888' if c != 'Midsize Cars' else '#900' for c in data.columns]\n",
    "data.plot(ax=ax, color=colors)\n",
    "ax.legend(bbox_to_anchor=(1,1))\n",
    "ax.set_title('Average City Mileage')"
   ]
  },
  {
   "cell_type": "markdown",
   "metadata": {},
   "source": [
    "## Timeseries Exercise\n",
    "* Plot a timeseries plot\n",
    "* Add an extra dimension to it"
   ]
  },
  {
   "cell_type": "code",
   "execution_count": null,
   "metadata": {},
   "outputs": [],
   "source": []
  },
  {
   "cell_type": "code",
   "execution_count": null,
   "metadata": {},
   "outputs": [],
   "source": []
  },
  {
   "cell_type": "code",
   "execution_count": null,
   "metadata": {},
   "outputs": [],
   "source": []
  },
  {
   "cell_type": "markdown",
   "metadata": {},
   "source": [
    "## Seaborn Extras"
   ]
  },
  {
   "cell_type": "code",
   "execution_count": null,
   "metadata": {},
   "outputs": [],
   "source": [
    "# default style\n",
    "sns.set() "
   ]
  },
  {
   "cell_type": "code",
   "execution_count": null,
   "metadata": {},
   "outputs": [],
   "source": [
    "plt.plot(range(10))"
   ]
  },
  {
   "cell_type": "code",
   "execution_count": null,
   "metadata": {},
   "outputs": [],
   "source": [
    "# styles - white, dark, whitegrid, darkgrid, ticks\n",
    "# use set_style for more permanence\n",
    "with sns.axes_style('dark'):\n",
    "    plt.plot(range(10))"
   ]
  },
  {
   "cell_type": "code",
   "execution_count": null,
   "metadata": {},
   "outputs": [],
   "source": [
    "with sns.axes_style('ticks'):\n",
    "    plt.plot(range(10))\n",
    "    sns.despine()"
   ]
  },
  {
   "cell_type": "code",
   "execution_count": null,
   "metadata": {},
   "outputs": [],
   "source": [
    "sns.set_style('ticks')\n",
    "plt.plot(range(10))"
   ]
  },
  {
   "cell_type": "code",
   "execution_count": null,
   "metadata": {},
   "outputs": [],
   "source": [
    "# get the current style - can pass in a dictionary like this as 2nd param to *_style\n",
    "sns.axes_style()"
   ]
  },
  {
   "cell_type": "code",
   "execution_count": null,
   "metadata": {},
   "outputs": [],
   "source": [
    "# list my fonts\n",
    "import matplotlib.font_manager\n",
    "print(sorted([f.name for f in matplotlib.font_manager.fontManager.ttflist]))"
   ]
  },
  {
   "cell_type": "code",
   "execution_count": null,
   "metadata": {},
   "outputs": [],
   "source": [
    "sns.set()\n",
    "sns.set_style('ticks' , {'font.sans-serif': ['Iosevka Fixed SS01']})\n",
    "with sns.plotting_context('poster'):\n",
    "    plt.plot(range(10))"
   ]
  },
  {
   "cell_type": "code",
   "execution_count": null,
   "metadata": {},
   "outputs": [],
   "source": [
    "sns.set()\n",
    "with sns.plotting_context('poster'):\n",
    "    plt.plot(range(10))"
   ]
  },
  {
   "cell_type": "code",
   "execution_count": null,
   "metadata": {},
   "outputs": [],
   "source": [
    "s = {'axes.facecolor': 'pink'}\n",
    "with sns.axes_style(None, s):\n",
    "    plt.plot(range(10))"
   ]
  },
  {
   "cell_type": "code",
   "execution_count": null,
   "metadata": {
    "lines_to_next_cell": 2
   },
   "outputs": [],
   "source": [
    "# reset to default values\n",
    "sns.set()"
   ]
  },
  {
   "cell_type": "code",
   "execution_count": null,
   "metadata": {},
   "outputs": [],
   "source": [
    "plt.plot(range(10))"
   ]
  },
  {
   "cell_type": "code",
   "execution_count": null,
   "metadata": {},
   "outputs": [],
   "source": [
    "# paper, notebook, talk, poster\n",
    "# set_context - permanent\n",
    "# plotting_context - with statement\n",
    "with sns.plotting_context('poster'):\n",
    "    plt.plot(range(10))"
   ]
  },
  {
   "cell_type": "code",
   "execution_count": null,
   "metadata": {},
   "outputs": [],
   "source": [
    "# colors\n",
    "# set_palette - permanent\n",
    "# color_palette - context manager\n",
    "# categorical (qualitative) - no order (deep, muted, pastel, bright, dark, and colorblind)\n",
    "sns.palplot(sns.color_palette())"
   ]
  },
  {
   "cell_type": "code",
   "execution_count": null,
   "metadata": {},
   "outputs": [],
   "source": [
    "# \"Circular\" - For large numbers of categories or repeating (season/time)\n",
    "# HSLuv - equal luminance\n",
    "sns.palplot(sns.color_palette('husl', 30))"
   ]
  },
  {
   "cell_type": "code",
   "execution_count": null,
   "metadata": {},
   "outputs": [],
   "source": [
    "# continuous (sequential) - Ordered  - unimportant to more important\n",
    "sns.palplot(sns.color_palette('Blues'))"
   ]
  },
  {
   "cell_type": "code",
   "execution_count": null,
   "metadata": {},
   "outputs": [],
   "source": [
    "# continuous (sequential) - Ordered - unimportant to more important\n",
    "# Reverse order by tacking _r onto end\n",
    "sns.palplot(sns.color_palette('Blues_r'))"
   ]
  },
  {
   "cell_type": "code",
   "execution_count": null,
   "metadata": {},
   "outputs": [],
   "source": [
    "# continuous (diverging) - Ordered - High and low are interesting (correlation)\n",
    "sns.palplot(sns.color_palette('RdBu'))"
   ]
  },
  {
   "cell_type": "code",
   "execution_count": null,
   "metadata": {},
   "outputs": [],
   "source": [
    "# fancy tool to help (see docs for 1st param)\n",
    "# also other sns.choose_*\n",
    "# diverging, sequential, qualitative\n",
    "sns.choose_colorbrewer_palette('qualitative')"
   ]
  },
  {
   "cell_type": "code",
   "execution_count": null,
   "metadata": {},
   "outputs": [],
   "source": [
    "# Can specify own colors\n",
    "bad = ['#c07fef', '#deadbe', '#fef70c']\n",
    "sns.palplot(sns.color_palette(bad))"
   ]
  },
  {
   "cell_type": "code",
   "execution_count": null,
   "metadata": {
    "lines_to_next_cell": 0
   },
   "outputs": [],
   "source": [
    "# need to set font outside of context manager!\n",
    "sns.set_style('ticks' , {'font.sans-serif': ['Roboto']})\n",
    "\n",
    "with sns.color_palette(sns.color_palette(bad)):\n",
    "    with sns.plotting_context('talk'):\n",
    "        sns.violinplot(x='city08', y='make', data=auto,\n",
    "                 order=['Chevrolet', 'Ford', 'Dodge', 'GMC', 'Toyota'])"
   ]
  },
  {
   "cell_type": "code",
   "execution_count": null,
   "metadata": {
    "lines_to_next_cell": 0
   },
   "outputs": [],
   "source": [
    "sns.color_palette?"
   ]
  },
  {
   "cell_type": "code",
   "execution_count": null,
   "metadata": {},
   "outputs": [],
   "source": []
  },
  {
   "cell_type": "code",
   "execution_count": null,
   "metadata": {},
   "outputs": [],
   "source": []
  },
  {
   "cell_type": "markdown",
   "metadata": {},
   "source": [
    "## Extras Exercise\n",
    "* With the ``plotting_context`` change the size of one of your previous plots\n",
    "* Create your own color palette for one of your plots. What type should it be (diverging, sequential, qualitative)?\n",
    "* With the ``color_palette`` use your palette to update the plot"
   ]
  },
  {
   "cell_type": "code",
   "execution_count": null,
   "metadata": {},
   "outputs": [],
   "source": []
  },
  {
   "cell_type": "code",
   "execution_count": null,
   "metadata": {},
   "outputs": [],
   "source": []
  },
  {
   "cell_type": "code",
   "execution_count": null,
   "metadata": {},
   "outputs": [],
   "source": []
  },
  {
   "cell_type": "code",
   "execution_count": null,
   "metadata": {},
   "outputs": [],
   "source": []
  }
 ],
 "metadata": {
  "kernelspec": {
   "display_name": "Python 3",
   "language": "python",
   "name": "python3"
  }
 },
 "nbformat": 4,
 "nbformat_minor": 4
}
